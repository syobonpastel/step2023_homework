{
 "cells": [
  {
   "cell_type": "code",
   "execution_count": 27,
   "metadata": {},
   "outputs": [
    {
     "name": "stdout",
     "output_type": "stream",
     "text": [
      "Anagram of annotator:  ['annotator']\n",
      "Anagram of card:  ['card']\n",
      "Anagram of test:  ['stet', 'test']\n",
      "Anagram of xbaefaz not found\n",
      "Anagram of  not found\n",
      "Anagram of taramasalatas:  ['taramasalatas']\n"
     ]
    }
   ],
   "source": [
    "# week1_q1: Anagram\n",
    "# 与えられた文字列のAnagramを辞書ファイルから探して返すプログラム\n",
    "\n",
    "import sys\n",
    "\n",
    "\n",
    "def sort_str(str):\n",
    "    return ''.join(sorted(str))\n",
    "\n",
    "\n",
    "def anagram(str, sort_dictionary):\n",
    "    # 入力文字列のAnagramを探す\n",
    "    input_str_sorted = sort_str(str)\n",
    "    anagram_list = []\n",
    "    for i in range(len(sort_dictionary)):\n",
    "        if input_str_sorted == sort_dictionary[i][0]:\n",
    "            anagram_list.append(sort_dictionary[i][1])\n",
    "        elif input_str_sorted < sort_dictionary[i][0]:\n",
    "            break\n",
    "\n",
    "    # 結果を表示\n",
    "    if len(anagram_list) > 0:\n",
    "        print('Anagram of ' + str + ': ', anagram_list)\n",
    "    else:\n",
    "        print('Anagram of ' + str + ' not found')\n",
    "\n",
    "\n",
    "def main():\n",
    "    # 辞書ファイルの読み込み\n",
    "    with open('words.txt', 'r') as f:\n",
    "        dictionary = f.read().splitlines()\n",
    "\n",
    "    sort_dictionary = []\n",
    "    for i in range(len(dictionary)):\n",
    "        sort_dictionary.append([sort_str(dictionary[i]), dictionary[i]])\n",
    "\n",
    "    sort_dictionary.sort()\n",
    "\n",
    "    # 入力文字列の読み込み\n",
    "    with open('input.txt', 'r') as f:\n",
    "        input_str = f.read().splitlines()\n",
    "\n",
    "    # Anagramを探す\n",
    "    for str in input_str:\n",
    "        anagram(str, sort_dictionary)\n",
    "\n",
    "\n",
    "if __name__ == '__main__':\n",
    "    main()\n"
   ]
  }
 ],
 "metadata": {
  "kernelspec": {
   "display_name": "Python 3",
   "language": "python",
   "name": "python3"
  },
  "language_info": {
   "codemirror_mode": {
    "name": "ipython",
    "version": 3
   },
   "file_extension": ".py",
   "mimetype": "text/x-python",
   "name": "python",
   "nbconvert_exporter": "python",
   "pygments_lexer": "ipython3",
   "version": "3.8.9"
  },
  "orig_nbformat": 4
 },
 "nbformat": 4,
 "nbformat_minor": 2
}
